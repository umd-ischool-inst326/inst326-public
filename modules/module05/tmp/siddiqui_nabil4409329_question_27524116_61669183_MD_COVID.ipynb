{
 "cells": [
  {
   "cell_type": "code",
   "execution_count": 65,
   "metadata": {
    "scrolled": false
   },
   "outputs": [
    {
     "name": "stdout",
     "output_type": "stream",
     "text": [
      "Counties not responsible for the problem\n",
      "               County        VACCINATION_DATE\n",
      "75         Montgomery  2020/12/08 15:00:00+00\n",
      "76    Prince George's  2020/12/10 15:00:00+00\n",
      "77            Unknown  2020/12/11 15:00:00+00\n",
      "78       Anne Arundel  2020/12/14 15:00:00+00\n",
      "79         Montgomery  2020/12/14 15:00:00+00\n",
      "...               ...                     ...\n",
      "2025           Talbot  2021/03/05 15:00:00+00\n",
      "2026          Unknown  2021/03/05 15:00:00+00\n",
      "2027       Washington  2021/03/05 15:00:00+00\n",
      "2028         Wicomico  2021/03/05 15:00:00+00\n",
      "2029        Worcester  2021/03/05 15:00:00+00\n",
      "\n",
      "[1955 rows x 2 columns]\n",
      "Counties responsible for the problem\n",
      "             County        VACCINATION_DATE\n",
      "0              Kent  1930/11/13 15:00:00+00\n",
      "1      Anne Arundel  1966/02/12 15:00:00+00\n",
      "2      Anne Arundel  1966/02/15 15:00:00+00\n",
      "3          Allegany  1972/10/13 15:00:00+00\n",
      "4         Baltimore  1972/12/16 15:00:00+00\n",
      "..              ...                     ...\n",
      "69          Carroll  2020/12/01 15:00:00+00\n",
      "70        Frederick  2020/12/01 15:00:00+00\n",
      "71       Montgomery  2020/12/01 15:00:00+00\n",
      "72  Prince George's  2020/12/01 15:00:00+00\n",
      "73         Wicomico  2020/12/01 15:00:00+00\n",
      "\n",
      "[74 rows x 2 columns]\n"
     ]
    }
   ],
   "source": [
    "import pandas as pd \n",
    "import datetime\n",
    "df = pd.read_csv(\"MD_COVID19_TotalVaccinationsCountyFirstandSecondDose.csv\")\n",
    "\n",
    "date_before = datetime.date(2020, 12, 3)\n",
    "df['time'] = pd.to_datetime(df['VACCINATION_DATE'])\n",
    "df['dates'] = df['time'].dt.date #> \n",
    "\n",
    "mask1 = df['dates'] > date_before\n",
    "mask2 = df['dates'] < date_before\n",
    "\n",
    "df1 = df.loc[mask1]\n",
    "df2 = df.loc[mask2]\n",
    "\n",
    "print(\"Counties not responsible for the problem\")\n",
    "print(df1[['County','VACCINATION_DATE']])\n",
    "\n",
    "print(\"Counties responsible for the problem\")\n",
    "print(df2[['County','VACCINATION_DATE']])\n"
   ]
  },
  {
   "cell_type": "code",
   "execution_count": null,
   "metadata": {},
   "outputs": [],
   "source": []
  },
  {
   "cell_type": "code",
   "execution_count": null,
   "metadata": {},
   "outputs": [],
   "source": []
  }
 ],
 "metadata": {
  "kernelspec": {
   "display_name": "Python 3",
   "language": "python",
   "name": "python3"
  },
  "language_info": {
   "codemirror_mode": {
    "name": "ipython",
    "version": 3
   },
   "file_extension": ".py",
   "mimetype": "text/x-python",
   "name": "python",
   "nbconvert_exporter": "python",
   "pygments_lexer": "ipython3",
   "version": "3.8.5"
  }
 },
 "nbformat": 4,
 "nbformat_minor": 4
}
